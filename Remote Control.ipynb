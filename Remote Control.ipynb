{
 "cells": [
  {
   "cell_type": "markdown",
   "id": "2ad60961",
   "metadata": {},
   "source": [
    "## Download the Module first"
   ]
  },
  {
   "cell_type": "code",
   "execution_count": 1,
   "id": "a2150994",
   "metadata": {},
   "outputs": [
    {
     "name": "stdout",
     "output_type": "stream",
     "text": [
      "Defaulting to user installation because normal site-packages is not writeable\n",
      "Requirement already satisfied: alphai-api in /private/var/TestAdmin/.local/lib/python3.11/site-packages (0.0.6)\n",
      "Requirement already satisfied: pynput in /private/var/TestAdmin/.local/lib/python3.11/site-packages (from alphai-api) (1.8.1)\n",
      "Requirement already satisfied: numpy in /usr/local/anaconda3/lib/python3.11/site-packages (from alphai-api) (1.24.3)\n",
      "Requirement already satisfied: six in /usr/local/anaconda3/lib/python3.11/site-packages (from pynput->alphai-api) (1.16.0)\n",
      "Requirement already satisfied: pyobjc-framework-ApplicationServices>=8.0 in /private/var/TestAdmin/.local/lib/python3.11/site-packages (from pynput->alphai-api) (11.1)\n",
      "Requirement already satisfied: pyobjc-framework-Quartz>=8.0 in /private/var/TestAdmin/.local/lib/python3.11/site-packages (from pynput->alphai-api) (11.1)\n",
      "Requirement already satisfied: pyobjc-core>=11.1 in /private/var/TestAdmin/.local/lib/python3.11/site-packages (from pyobjc-framework-ApplicationServices>=8.0->pynput->alphai-api) (11.1)\n",
      "Requirement already satisfied: pyobjc-framework-Cocoa>=11.1 in /private/var/TestAdmin/.local/lib/python3.11/site-packages (from pyobjc-framework-ApplicationServices>=8.0->pynput->alphai-api) (11.1)\n",
      "Requirement already satisfied: pyobjc-framework-CoreText>=11.1 in /private/var/TestAdmin/.local/lib/python3.11/site-packages (from pyobjc-framework-ApplicationServices>=8.0->pynput->alphai-api) (11.1)\n",
      "Note: you may need to restart the kernel to use updated packages.\n"
     ]
    }
   ],
   "source": [
    "pip install alphai-api\n"
   ]
  },
  {
   "cell_type": "code",
   "execution_count": 2,
   "id": "34227538",
   "metadata": {},
   "outputs": [
    {
     "name": "stdout",
     "output_type": "stream",
     "text": [
      "Connected to AlphAI, type help(alphai) for more info\n"
     ]
    }
   ],
   "source": [
    "from alphai import *"
   ]
  },
  {
   "cell_type": "markdown",
   "id": "63d8204f",
   "metadata": {},
   "source": [
    "## Connect to the robot and start your first command\n",
    "--> Before we start, we need to make sure the robots are connected throught wifi or bluetooth in the AlphAI software"
   ]
  },
  {
   "cell_type": "markdown",
   "id": "06c575ef",
   "metadata": {},
   "source": [
    "### What are the parameters in motor (left,right,duration)\n",
    "* left means values to move at the left wheel\n",
    "* right means values to move for the right wheel\n",
    "* Duration means the time period for moving(in seconds)\n",
    "* <span style=\"color:red\">The left and right values are between [-50,50]</span>"
   ]
  },
  {
   "cell_type": "code",
   "execution_count": 6,
   "id": "cbc0f8ad",
   "metadata": {},
   "outputs": [],
   "source": [
    "# We should connect to the robot in advance\n",
    "from alphai import *\n",
    "\n",
    "motor(30, -30, 5)\n",
    "# This would let the robot spin for 5 seconds\n",
    "\n"
   ]
  },
  {
   "cell_type": "markdown",
   "id": "a337d6a5",
   "metadata": {},
   "source": [
    "## Now let's get started\n",
    "### first, write functions to ask robots to have different actions\n",
    "* forward()\n",
    "* backward()\n",
    "* left()\n",
    "* right()\n",
    "* forward_left\n",
    "* forward_right\n",
    "* stop() **If we don't specify the duration, they the robot will keep moving untill we call stop**"
   ]
  },
  {
   "cell_type": "code",
   "execution_count": 42,
   "id": "a0fc0dea",
   "metadata": {},
   "outputs": [],
   "source": [
    "def forward():\n",
    "    motor(15, 15, 0.3)  # Move forward for 1 seconds\n",
    "\n",
    "def backward():\n",
    "    motor(-15, -15, 0.3)  # Move backward for 1 seconds\n",
    "\n",
    "def left():\n",
    "    motor(-20, 20, 0.1)  # Turn left for 1 seconds\n",
    "\n",
    "def right():\n",
    "    motor(20, -20, 0.1)  # Turn right for 1 seconds\n",
    "\n",
    "def forward_left():\n",
    "    motor(10, 15, 0.3)  # Move forward and turn left for 1 seconds\n",
    "    \n",
    "def forward_right():\n",
    "    motor(15, 10, 0.3)  # Move forward and turn right for 1 seconds\n",
    "\n",
    "def stop():\n",
    "    motor(0, 0, 1)  # Stop the robot for 1 second"
   ]
  },
  {
   "cell_type": "markdown",
   "id": "e85df39e",
   "metadata": {},
   "source": [
    "## Then, make sure all the calls to functions should be within this main block\n",
    "--> In that way we could simply import this python script without calling the movements accidentally.\n",
    "\n",
    "After that, let's call the functions above to move along the below the oval\n",
    "![An oval](Oval.png)"
   ]
  },
  {
   "cell_type": "code",
   "execution_count": null,
   "id": "6a33571e",
   "metadata": {},
   "outputs": [],
   "source": [
    "if __name__ == '__main__':\n",
    "    for i in range(1):\n",
    "        forward()\n",
    "        for i in range(2):\n",
    "            forward_left()\n",
    "        forward()\n",
    "        left()\n",
    "        for i in range(2):\n",
    "            forward()\n",
    "        for i in range(2):\n",
    "            forward_left()\n",
    "        for i in range(4):\n",
    "            forward()   \n",
    "        left()\n",
    "        for i in range(10):\n",
    "            forward() \n",
    "        forward_left()\n",
    "        for i in range(5):\n",
    "            forward_left()\n",
    "        for i in range(3):\n",
    "            forward()\n",
    "    \n",
    "  # This would go along half of the oval  "
   ]
  }
 ],
 "metadata": {
  "kernelspec": {
   "display_name": "base",
   "language": "python",
   "name": "python3"
  },
  "language_info": {
   "codemirror_mode": {
    "name": "ipython",
    "version": 3
   },
   "file_extension": ".py",
   "mimetype": "text/x-python",
   "name": "python",
   "nbconvert_exporter": "python",
   "pygments_lexer": "ipython3",
   "version": "3.11.5"
  }
 },
 "nbformat": 4,
 "nbformat_minor": 5
}
